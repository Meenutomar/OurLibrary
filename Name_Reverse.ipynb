{
  "nbformat": 4,
  "nbformat_minor": 0,
  "metadata": {
    "colab": {
      "provenance": [],
      "authorship_tag": "ABX9TyMK+5b/sorQJdD9kU0ojQLH",
      "include_colab_link": true
    },
    "kernelspec": {
      "name": "python3",
      "display_name": "Python 3"
    },
    "language_info": {
      "name": "python"
    }
  },
  "cells": [
    {
      "cell_type": "markdown",
      "metadata": {
        "id": "view-in-github",
        "colab_type": "text"
      },
      "source": [
        "<a href=\"https://colab.research.google.com/github/Meenutomar/OurLibrary/blob/main/Name_Reverse.ipynb\" target=\"_parent\"><img src=\"https://colab.research.google.com/assets/colab-badge.svg\" alt=\"Open In Colab\"/></a>"
      ]
    },
    {
      "cell_type": "code",
      "execution_count": null,
      "metadata": {
        "id": "NBEn22OsVbo-"
      },
      "outputs": [],
      "source": []
    },
    {
      "cell_type": "code",
      "source": [
        "first_name = input(\"Enter First name: \")\n",
        "last_name =input(\"Enter last name: \")\n",
        "\n",
        "print(first_name[0:2])\n",
        "print(last_name[-2:])\n",
        "New_name = first_name[:2] + last_name[-2:]\n",
        "print(New_name[::-1])"
      ],
      "metadata": {
        "colab": {
          "base_uri": "https://localhost:8080/"
        },
        "id": "rK7OY_BUXEMZ",
        "outputId": "01b1bcf3-8f51-4e98-d8ed-d304c8259ed9"
      },
      "execution_count": 1,
      "outputs": [
        {
          "output_type": "stream",
          "name": "stdout",
          "text": [
            "Enter First name: Meenu \n",
            "Enter last name: Tomar\n",
            "Me\n",
            "ar\n",
            "raeM\n"
          ]
        }
      ]
    },
    {
      "cell_type": "code",
      "source": [],
      "metadata": {
        "id": "3jiFVv5NazZG"
      },
      "execution_count": 1,
      "outputs": []
    }
  ]
}